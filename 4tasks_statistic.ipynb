{
  "nbformat": 4,
  "nbformat_minor": 0,
  "metadata": {
    "colab": {
      "name": "HomeworkStats.ipynb",
      "provenance": [],
      "collapsed_sections": [],
      "include_colab_link": true
    },
    "kernelspec": {
      "name": "python3",
      "display_name": "Python 3"
    }
  },
  "cells": [
    {
      "cell_type": "markdown",
      "metadata": {
        "id": "view-in-github",
        "colab_type": "text"
      },
      "source": [
        "<a href=\"https://colab.research.google.com/github/Rocknroll-nerd/AGICourse/blob/main/4tasks_statistic.ipynb\" target=\"_parent\"><img src=\"https://colab.research.google.com/assets/colab-badge.svg\" alt=\"Open In Colab\"/></a>"
      ]
    },
    {
      "cell_type": "markdown",
      "metadata": {
        "id": "ni8et5OSLsK0"
      },
      "source": [
        "# Решение задач\n",
        "Нужно решить задачи используя как параметрический, так и непараметрический подход"
      ]
    },
    {
      "cell_type": "markdown",
      "metadata": {
        "id": "LNjIqTdfMBoA"
      },
      "source": [
        "## Задача 1\n",
        "Для 61 большого города в Англии и Уэльсе известны средняя годовая смертность на 100000 населения (по данным 1958–1964) и концентрация кальция в питьевой воде (в частях на миллион). Чем выше концентрация кальция, тем жёстче вода. Города дополнительно поделены на северные и южные (файл water.txt). \n",
        "Ответьте на следующие вопросы:\n",
        "  \n",
        "  - Постройте 95% доверительный интервал для средней годовой смертности в больших городах. Чему равна его нижняя граница? \n",
        "  - Есть ли разница в концентрации кальция в Южных и Северных городах?\n",
        "  - Есть ли разница в продолжительность жизни населения Южных и Северных городов?\n",
        "\n",
        "- Влияет ли качество воды на продолжительность жизни населения?  (А здесь уже все может быть не однозначно в постановке гипотезы)"
      ]
    },
    {
      "cell_type": "code",
      "metadata": {
        "id": "J7rl3R3hCCzW",
        "colab": {
          "base_uri": "https://localhost:8080/",
          "height": 125
        },
        "outputId": "3d301018-e9f3-4008-ce20-c2d14ea9c9b3"
      },
      "source": [
        "from google.colab import drive\n",
        "drive.mount('/content/drive')"
      ],
      "execution_count": null,
      "outputs": [
        {
          "output_type": "stream",
          "text": [
            "Go to this URL in a browser: https://accounts.google.com/o/oauth2/auth?client_id=947318989803-6bn6qk8qdgf4n4g3pfee6491hc0brc4i.apps.googleusercontent.com&redirect_uri=urn%3aietf%3awg%3aoauth%3a2.0%3aoob&response_type=code&scope=email%20https%3a%2f%2fwww.googleapis.com%2fauth%2fdocs.test%20https%3a%2f%2fwww.googleapis.com%2fauth%2fdrive%20https%3a%2f%2fwww.googleapis.com%2fauth%2fdrive.photos.readonly%20https%3a%2f%2fwww.googleapis.com%2fauth%2fpeopleapi.readonly\n",
            "\n",
            "Enter your authorization code:\n",
            "··········\n",
            "Mounted at /content/drive\n"
          ],
          "name": "stdout"
        }
      ]
    },
    {
      "cell_type": "code",
      "metadata": {
        "id": "LlOIrN0oCDcF"
      },
      "source": [
        "import pandas as pd\n",
        "import numpy as np\n",
        "from matplotlib import pyplot as plt\n",
        "import seaborn"
      ],
      "execution_count": null,
      "outputs": []
    },
    {
      "cell_type": "code",
      "metadata": {
        "id": "jRik__DVLDID"
      },
      "source": [
        "seaborn.set_style(style='white')"
      ],
      "execution_count": null,
      "outputs": []
    },
    {
      "cell_type": "code",
      "metadata": {
        "id": "An2-l2lYFChn",
        "colab": {
          "base_uri": "https://localhost:8080/",
          "height": 34
        },
        "outputId": "7ab26870-6244-4439-eccf-793a96fb8513"
      },
      "source": [
        "cd /content/drive/My\\ Drive/"
      ],
      "execution_count": null,
      "outputs": [
        {
          "output_type": "stream",
          "text": [
            "/content/drive/My Drive\n"
          ],
          "name": "stdout"
        }
      ]
    },
    {
      "cell_type": "code",
      "metadata": {
        "id": "9HnL4pFdFcMY",
        "colab": {
          "base_uri": "https://localhost:8080/",
          "height": 406
        },
        "outputId": "6d89b6cc-3b54-4973-ca0e-ff8ae11d22ed"
      },
      "source": [
        "water = pd.read_csv('water.txt', header=0, sep='\\t', usecols=['location', 'town', 'mortality', 'hardness'])\n",
        "#water.columns['location', 'town', 'mortality', 'hardness']\n",
        "water"
      ],
      "execution_count": null,
      "outputs": [
        {
          "output_type": "execute_result",
          "data": {
            "text/html": [
              "<div>\n",
              "<style scoped>\n",
              "    .dataframe tbody tr th:only-of-type {\n",
              "        vertical-align: middle;\n",
              "    }\n",
              "\n",
              "    .dataframe tbody tr th {\n",
              "        vertical-align: top;\n",
              "    }\n",
              "\n",
              "    .dataframe thead th {\n",
              "        text-align: right;\n",
              "    }\n",
              "</style>\n",
              "<table border=\"1\" class=\"dataframe\">\n",
              "  <thead>\n",
              "    <tr style=\"text-align: right;\">\n",
              "      <th></th>\n",
              "      <th>location</th>\n",
              "      <th>town</th>\n",
              "      <th>mortality</th>\n",
              "      <th>hardness</th>\n",
              "    </tr>\n",
              "  </thead>\n",
              "  <tbody>\n",
              "    <tr>\n",
              "      <th>0</th>\n",
              "      <td>South</td>\n",
              "      <td>Bath</td>\n",
              "      <td>1247</td>\n",
              "      <td>105</td>\n",
              "    </tr>\n",
              "    <tr>\n",
              "      <th>1</th>\n",
              "      <td>North</td>\n",
              "      <td>Birkenhead</td>\n",
              "      <td>1668</td>\n",
              "      <td>17</td>\n",
              "    </tr>\n",
              "    <tr>\n",
              "      <th>2</th>\n",
              "      <td>South</td>\n",
              "      <td>Birmingham</td>\n",
              "      <td>1466</td>\n",
              "      <td>5</td>\n",
              "    </tr>\n",
              "    <tr>\n",
              "      <th>3</th>\n",
              "      <td>North</td>\n",
              "      <td>Blackburn</td>\n",
              "      <td>1800</td>\n",
              "      <td>14</td>\n",
              "    </tr>\n",
              "    <tr>\n",
              "      <th>4</th>\n",
              "      <td>North</td>\n",
              "      <td>Blackpool</td>\n",
              "      <td>1609</td>\n",
              "      <td>18</td>\n",
              "    </tr>\n",
              "    <tr>\n",
              "      <th>...</th>\n",
              "      <td>...</td>\n",
              "      <td>...</td>\n",
              "      <td>...</td>\n",
              "      <td>...</td>\n",
              "    </tr>\n",
              "    <tr>\n",
              "      <th>56</th>\n",
              "      <td>South</td>\n",
              "      <td>Walsall</td>\n",
              "      <td>1527</td>\n",
              "      <td>60</td>\n",
              "    </tr>\n",
              "    <tr>\n",
              "      <th>57</th>\n",
              "      <td>South</td>\n",
              "      <td>West Bromwich</td>\n",
              "      <td>1627</td>\n",
              "      <td>53</td>\n",
              "    </tr>\n",
              "    <tr>\n",
              "      <th>58</th>\n",
              "      <td>South</td>\n",
              "      <td>West Ham</td>\n",
              "      <td>1486</td>\n",
              "      <td>122</td>\n",
              "    </tr>\n",
              "    <tr>\n",
              "      <th>59</th>\n",
              "      <td>South</td>\n",
              "      <td>Wolverhampton</td>\n",
              "      <td>1485</td>\n",
              "      <td>81</td>\n",
              "    </tr>\n",
              "    <tr>\n",
              "      <th>60</th>\n",
              "      <td>North</td>\n",
              "      <td>York</td>\n",
              "      <td>1378</td>\n",
              "      <td>71</td>\n",
              "    </tr>\n",
              "  </tbody>\n",
              "</table>\n",
              "<p>61 rows × 4 columns</p>\n",
              "</div>"
            ],
            "text/plain": [
              "   location           town  mortality  hardness\n",
              "0     South           Bath       1247       105\n",
              "1     North     Birkenhead       1668        17\n",
              "2     South     Birmingham       1466         5\n",
              "3     North      Blackburn       1800        14\n",
              "4     North      Blackpool       1609        18\n",
              "..      ...            ...        ...       ...\n",
              "56    South        Walsall       1527        60\n",
              "57    South  West Bromwich       1627        53\n",
              "58    South       West Ham       1486       122\n",
              "59    South  Wolverhampton       1485        81\n",
              "60    North           York       1378        71\n",
              "\n",
              "[61 rows x 4 columns]"
            ]
          },
          "metadata": {
            "tags": []
          },
          "execution_count": 6
        }
      ]
    },
    {
      "cell_type": "code",
      "metadata": {
        "id": "MQitCdUyHn8A",
        "colab": {
          "base_uri": "https://localhost:8080/",
          "height": 202
        },
        "outputId": "f4f41237-bf49-44b4-fdac-b8a8f4cf532d"
      },
      "source": [
        "water.info()"
      ],
      "execution_count": null,
      "outputs": [
        {
          "output_type": "stream",
          "text": [
            "<class 'pandas.core.frame.DataFrame'>\n",
            "RangeIndex: 61 entries, 0 to 60\n",
            "Data columns (total 4 columns):\n",
            " #   Column     Non-Null Count  Dtype \n",
            "---  ------     --------------  ----- \n",
            " 0   location   61 non-null     object\n",
            " 1   town       61 non-null     object\n",
            " 2   mortality  61 non-null     int64 \n",
            " 3   hardness   61 non-null     int64 \n",
            "dtypes: int64(2), object(2)\n",
            "memory usage: 2.0+ KB\n"
          ],
          "name": "stdout"
        }
      ]
    },
    {
      "cell_type": "code",
      "metadata": {
        "id": "dzIfc706JYDf",
        "colab": {
          "base_uri": "https://localhost:8080/",
          "height": 284
        },
        "outputId": "4d74bc29-be61-4c6c-bda2-9f993ce94d31"
      },
      "source": [
        "water.describe()"
      ],
      "execution_count": null,
      "outputs": [
        {
          "output_type": "execute_result",
          "data": {
            "text/html": [
              "<div>\n",
              "<style scoped>\n",
              "    .dataframe tbody tr th:only-of-type {\n",
              "        vertical-align: middle;\n",
              "    }\n",
              "\n",
              "    .dataframe tbody tr th {\n",
              "        vertical-align: top;\n",
              "    }\n",
              "\n",
              "    .dataframe thead th {\n",
              "        text-align: right;\n",
              "    }\n",
              "</style>\n",
              "<table border=\"1\" class=\"dataframe\">\n",
              "  <thead>\n",
              "    <tr style=\"text-align: right;\">\n",
              "      <th></th>\n",
              "      <th>mortality</th>\n",
              "      <th>hardness</th>\n",
              "    </tr>\n",
              "  </thead>\n",
              "  <tbody>\n",
              "    <tr>\n",
              "      <th>count</th>\n",
              "      <td>61.000000</td>\n",
              "      <td>61.000000</td>\n",
              "    </tr>\n",
              "    <tr>\n",
              "      <th>mean</th>\n",
              "      <td>1524.147541</td>\n",
              "      <td>47.180328</td>\n",
              "    </tr>\n",
              "    <tr>\n",
              "      <th>std</th>\n",
              "      <td>187.668754</td>\n",
              "      <td>38.093966</td>\n",
              "    </tr>\n",
              "    <tr>\n",
              "      <th>min</th>\n",
              "      <td>1096.000000</td>\n",
              "      <td>5.000000</td>\n",
              "    </tr>\n",
              "    <tr>\n",
              "      <th>25%</th>\n",
              "      <td>1379.000000</td>\n",
              "      <td>14.000000</td>\n",
              "    </tr>\n",
              "    <tr>\n",
              "      <th>50%</th>\n",
              "      <td>1555.000000</td>\n",
              "      <td>39.000000</td>\n",
              "    </tr>\n",
              "    <tr>\n",
              "      <th>75%</th>\n",
              "      <td>1668.000000</td>\n",
              "      <td>75.000000</td>\n",
              "    </tr>\n",
              "    <tr>\n",
              "      <th>max</th>\n",
              "      <td>1987.000000</td>\n",
              "      <td>138.000000</td>\n",
              "    </tr>\n",
              "  </tbody>\n",
              "</table>\n",
              "</div>"
            ],
            "text/plain": [
              "         mortality    hardness\n",
              "count    61.000000   61.000000\n",
              "mean   1524.147541   47.180328\n",
              "std     187.668754   38.093966\n",
              "min    1096.000000    5.000000\n",
              "25%    1379.000000   14.000000\n",
              "50%    1555.000000   39.000000\n",
              "75%    1668.000000   75.000000\n",
              "max    1987.000000  138.000000"
            ]
          },
          "metadata": {
            "tags": []
          },
          "execution_count": 7
        }
      ]
    },
    {
      "cell_type": "markdown",
      "metadata": {
        "id": "4V7HbJ7Tk7F1"
      },
      "source": [
        "Постройте 95% доверительный интервал для средней годовой смертности в больших городах. Чему равна его нижняя граница?\n",
        "\n",
        "Строим доверительный интервал с использованием бутстрапа"
      ]
    },
    {
      "cell_type": "code",
      "metadata": {
        "id": "cSkqx9d9Jm3X",
        "colab": {
          "base_uri": "https://localhost:8080/",
          "height": 34
        },
        "outputId": "707c8418-b834-4a2f-cf4b-74e4117282c8"
      },
      "source": [
        "np.percentile(water.mortality.values, 2.5)"
      ],
      "execution_count": null,
      "outputs": [
        {
          "output_type": "execute_result",
          "data": {
            "text/plain": [
              "1205.5"
            ]
          },
          "metadata": {
            "tags": []
          },
          "execution_count": 8
        }
      ]
    },
    {
      "cell_type": "code",
      "metadata": {
        "id": "tnVLFpu335kY"
      },
      "source": [
        "def bootstrap_replicate_1d(data, func):\n",
        "    return func(np.random.choice(data, size=len(data)))\n",
        "\n",
        "def draw_bs_reps(data, func, size=1):\n",
        "    \"\"\"Draw bootstrap replicates.\"\"\"\n",
        "\n",
        "    # Initialize array of replicates: bs_replicates\n",
        "    bs_replicates = np.empty(size)\n",
        "\n",
        "    # Generate replicates\n",
        "    for i in range(size):\n",
        "        bs_replicates[i] = bootstrap_replicate_1d(data, func)\n",
        "\n",
        "    return bs_replicates"
      ],
      "execution_count": null,
      "outputs": []
    },
    {
      "cell_type": "code",
      "metadata": {
        "id": "Ov5nlJJVFU07",
        "colab": {
          "base_uri": "https://localhost:8080/",
          "height": 34
        },
        "outputId": "47b52f91-3c07-4ebd-b2a6-cac44caef3f8"
      },
      "source": [
        "for_means=draw_bs_reps(water.mortality, np.mean, size=1000)\n",
        "np.percentile(for_means, 2.5)"
      ],
      "execution_count": null,
      "outputs": [
        {
          "output_type": "execute_result",
          "data": {
            "text/plain": [
              "1477.077868852459"
            ]
          },
          "metadata": {
            "tags": []
          },
          "execution_count": 11
        }
      ]
    },
    {
      "cell_type": "markdown",
      "metadata": {
        "id": "ORKcgXlhJ1vE"
      },
      "source": [
        "1. Нижняя граница доверительного интервала по среднегодовой смертности равна 1477.077868852459"
      ]
    },
    {
      "cell_type": "code",
      "metadata": {
        "id": "PiJe_EuyKA-5",
        "colab": {
          "base_uri": "https://localhost:8080/",
          "height": 168
        },
        "outputId": "673836b6-bb8d-4d78-d73b-4a77e45a01f3"
      },
      "source": [
        "water[water.location == 'South'].hardness.describe()"
      ],
      "execution_count": null,
      "outputs": [
        {
          "output_type": "execute_result",
          "data": {
            "text/plain": [
              "count     26.000000\n",
              "mean      69.769231\n",
              "std       40.360682\n",
              "min        5.000000\n",
              "25%       40.250000\n",
              "50%       75.500000\n",
              "75%       99.750000\n",
              "max      138.000000\n",
              "Name: hardness, dtype: float64"
            ]
          },
          "metadata": {
            "tags": []
          },
          "execution_count": 9
        }
      ]
    },
    {
      "cell_type": "code",
      "metadata": {
        "id": "eE4CCdbsKtIW",
        "colab": {
          "base_uri": "https://localhost:8080/",
          "height": 168
        },
        "outputId": "02689f4b-a248-4d76-a531-a2d7c66907a7"
      },
      "source": [
        "water[water.location != 'South'].hardness.describe()"
      ],
      "execution_count": null,
      "outputs": [
        {
          "output_type": "execute_result",
          "data": {
            "text/plain": [
              "count    35.000000\n",
              "mean     30.400000\n",
              "std      26.134494\n",
              "min       6.000000\n",
              "25%      12.500000\n",
              "50%      17.000000\n",
              "75%      44.000000\n",
              "max      94.000000\n",
              "Name: hardness, dtype: float64"
            ]
          },
          "metadata": {
            "tags": []
          },
          "execution_count": 10
        }
      ]
    },
    {
      "cell_type": "code",
      "metadata": {
        "id": "Bh3WCnyQKzpP",
        "colab": {
          "base_uri": "https://localhost:8080/",
          "height": 282
        },
        "outputId": "e72fddd8-2593-4652-d107-916052829ba7"
      },
      "source": [
        "plt.subplot(); plt.hist(x=[water[water.location == 'South'].hardness, water[water.location != 'South'].hardness], histtype='bar', bins=20, density=True)\n",
        "plt.legend(['South', 'North'])\n",
        "#plt.subplot(); plt.hist(water[water.location != 'South'].hardness, histtype='barstacked', density=True)"
      ],
      "execution_count": null,
      "outputs": [
        {
          "output_type": "execute_result",
          "data": {
            "text/plain": [
              "<matplotlib.legend.Legend at 0x7ff923a5beb8>"
            ]
          },
          "metadata": {
            "tags": []
          },
          "execution_count": 11
        },
        {
          "output_type": "display_data",
          "data": {
            "image/png": "[encoded data removed]",
            "text/plain": [
              "<Figure size 432x288 with 1 Axes>"
            ]
          },
          "metadata": {
            "tags": []
          }
        }
      ]
    },
    {
      "cell_type": "markdown",
      "metadata": {
        "id": "NwSr3xMPr3MW"
      },
      "source": [
        "2. Жёсткость воды в северных городах ниже, чем в южных."
      ]
    },
    {
      "cell_type": "code",
      "metadata": {
        "id": "j2pBk3_Jr1Xp",
        "colab": {
          "base_uri": "https://localhost:8080/",
          "height": 282
        },
        "outputId": "502bca6b-99ca-4168-aedc-f5486b7e3827"
      },
      "source": [
        "plt.subplot(); plt.hist(x=[water[water.location == 'South'].mortality, water[water.location != 'South'].mortality], histtype='bar', bins=20, density=True)\n",
        "plt.legend(['South', 'North'])"
      ],
      "execution_count": null,
      "outputs": [
        {
          "output_type": "execute_result",
          "data": {
            "text/plain": [
              "<matplotlib.legend.Legend at 0x7ff92350bf28>"
            ]
          },
          "metadata": {
            "tags": []
          },
          "execution_count": 12
        },
        {
          "output_type": "display_data",
          "data": {
            "image/png": "[encoded data removed]",
            "text/plain": [
              "<Figure size 432x288 with 1 Axes>"
            ]
          },
          "metadata": {
            "tags": []
          }
        }
      ]
    },
    {
      "cell_type": "code",
      "metadata": {
        "id": "KBPI3peftD_L",
        "colab": {
          "base_uri": "https://localhost:8080/",
          "height": 168
        },
        "outputId": "371ad81f-952b-45e3-e95a-0b06b3e97d43"
      },
      "source": [
        "water[water.location != 'South'].mortality.describe()"
      ],
      "execution_count": null,
      "outputs": [
        {
          "output_type": "execute_result",
          "data": {
            "text/plain": [
              "count      35.000000\n",
              "mean     1633.600000\n",
              "std       136.936911\n",
              "min      1378.000000\n",
              "25%      1557.500000\n",
              "50%      1637.000000\n",
              "75%      1718.000000\n",
              "max      1987.000000\n",
              "Name: mortality, dtype: float64"
            ]
          },
          "metadata": {
            "tags": []
          },
          "execution_count": 13
        }
      ]
    },
    {
      "cell_type": "markdown",
      "metadata": {
        "id": "lKDSTiImslFK"
      },
      "source": [
        "3. На севере морталити больше, чем на юге. Это значит, что продолжительность жизни на севере меньше, чем на юге."
      ]
    },
    {
      "cell_type": "markdown",
      "metadata": {
        "id": "xSy0Wi9Ou6c1"
      },
      "source": [
        "Гипотеза: чем выше жёсткость воды, тем выше морталити. Однако тут же возникает вопрос, зависит ли вообще жесткость от смертности или на смертность может влиять что-то другое, посмотрим, существует ли зависимость смертности от  жесткости воды"
      ]
    },
    {
      "cell_type": "code",
      "metadata": {
        "id": "_0o7HSOFtdmt"
      },
      "source": [
        "def permutation_sample(data1, data2):\n",
        "    \"\"\"Generate a permutation sample from two data sets.\"\"\"\n",
        "\n",
        "    # Объедините два датасета с помощью функции  np.concatenate()\n",
        "    data = np.concatenate((data1, data2))\n",
        "\n",
        "    # Теперь перемешайте весь массив с помощью np.random.permutation()\n",
        "    permuted_data = np.random.permutation(data)\n",
        "\n",
        "    # Теперь переразбейте массив на два таких чтобы длина perm_sample_1 была равна длинне data1 , а perm_sample_2  - длинне data2\n",
        "    perm_sample_1 = permuted_data[:len(data1)]\n",
        "    perm_sample_2 = permuted_data[len(data1):]\n",
        "\n",
        "    return perm_sample_1, perm_sample_2"
      ],
      "execution_count": null,
      "outputs": []
    },
    {
      "cell_type": "code",
      "metadata": {
        "id": "DsDkhcDavdrd"
      },
      "source": [
        "def ecdf(data):\n",
        "    \"\"\"Compute ECDF for a one-dimensional array of measurements.\"\"\"\n",
        "\n",
        "    # Размер массива\n",
        "    n=len(data) \n",
        "    # Отсортируем все точки в массиве\n",
        "    x=np.sort(data)\n",
        "\n",
        "    # y это просто доля точек в интервале от 1 до n\n",
        "    y = np.arange(1, n+1) / n\n",
        "\n",
        "    return x, y"
      ],
      "execution_count": null,
      "outputs": []
    },
    {
      "cell_type": "code",
      "metadata": {
        "id": "gZhm8ypf87fE"
      },
      "source": [
        "def draw_bs_pairs_linreg(x, y, size=1):\n",
        "    \"\"\"Perform pairs bootstrap for linear regression.\"\"\"\n",
        "\n",
        "    # Set up array of indices to sample from: inds\n",
        "    inds = np.arange(len(x))\n",
        "\n",
        "    # Initialize replicates: bs_slope_reps, bs_intercept_reps\n",
        "    bs_slope_reps = np.empty(size)\n",
        "    bs_intercept_reps = np.empty(size)\n",
        "\n",
        "    # Generate replicates\n",
        "    for i in range(size):\n",
        "        bs_inds = np.random.choice(inds, size=len(inds))\n",
        "        bs_x, bs_y = x[bs_inds], y[bs_inds]\n",
        "        bs_slope_reps[i], bs_intercept_reps[i] = np.polyfit( bs_x, bs_y, 1)\n",
        "\n",
        "    return bs_slope_reps, bs_intercept_reps"
      ],
      "execution_count": null,
      "outputs": []
    },
    {
      "cell_type": "code",
      "metadata": {
        "id": "eNjZjOh5v99T"
      },
      "source": [
        "hard_mort_s = water[water.location == 'South'].hardness.values / water[water.location == 'South'].mortality.values\n",
        "hard_mort_n = water[water.location != 'South'].hardness.values / water[water.location != 'South'].mortality.values"
      ],
      "execution_count": null,
      "outputs": []
    },
    {
      "cell_type": "code",
      "metadata": {
        "id": "JR69FHUNxZ_d",
        "colab": {
          "base_uri": "https://localhost:8080/",
          "height": 235
        },
        "outputId": "0a548b48-104f-4ae5-b46e-9ccc7429ef13"
      },
      "source": [
        "hard_mort_s, hard_mort_n "
      ],
      "execution_count": null,
      "outputs": [
        {
          "output_type": "execute_result",
          "data": {
            "text/plain": [
              "(array([0.08420209, 0.00341064, 0.06004619, 0.06181015, 0.05244253,\n",
              "        0.01382488, 0.05967865, 0.07655502, 0.09256449, 0.01666667,\n",
              "        0.12591241, 0.02639087, 0.00885515, 0.04507257, 0.1056394 ,\n",
              "        0.09106383, 0.00336474, 0.06181319, 0.08171521, 0.04967129,\n",
              "        0.03977725, 0.008     , 0.03929273, 0.03257529, 0.0820996 ,\n",
              "        0.05454545]),\n",
              " array([0.01019185, 0.00777778, 0.01118707, 0.00641849, 0.00830105,\n",
              "        0.00610874, 0.00683761, 0.01341382, 0.02508039, 0.02731092,\n",
              "        0.02553685, 0.06816534, 0.00459242, 0.00571792, 0.05799873,\n",
              "        0.01005657, 0.00846501, 0.00437637, 0.01525822, 0.02585194,\n",
              "        0.01892081, 0.00348028, 0.00353774, 0.0075979 , 0.00969529,\n",
              "        0.03079824, 0.00402617, 0.00936455, 0.04725898, 0.04144775,\n",
              "        0.00834939, 0.0347561 , 0.04154476, 0.01230769, 0.05152395]))"
            ]
          },
          "metadata": {
            "tags": []
          },
          "execution_count": 19
        }
      ]
    },
    {
      "cell_type": "code",
      "metadata": {
        "id": "zWmaLsCqyBSA"
      },
      "source": [
        "hard_s = water[water.location == 'South'].hardness.values\n",
        "hard_n = water[water.location != 'South'].hardness.values\n",
        "mort_s = water[water.location == 'South'].mortality.values\n",
        "mort_n = water[water.location != 'South'].mortality.values"
      ],
      "execution_count": null,
      "outputs": []
    },
    {
      "cell_type": "code",
      "metadata": {
        "id": "CkkrxExtyMn8",
        "colab": {
          "base_uri": "https://localhost:8080/",
          "height": 296
        },
        "outputId": "a01043d5-517e-444d-c3c4-9d84a1b3bd19"
      },
      "source": [
        "plt.subplot(121)\n",
        "plt.scatter(mort_s, hard_s)\n",
        "plt.xlabel('Mortality')\n",
        "plt.ylabel('Hardness')\n",
        "plt.subplot(122)\n",
        "plt.scatter(mort_n, hard_n)\n",
        "plt.xlabel('Mortality')\n",
        "plt.ylabel('Hardness')"
      ],
      "execution_count": null,
      "outputs": [
        {
          "output_type": "execute_result",
          "data": {
            "text/plain": [
              "Text(0, 0.5, 'Hardness')"
            ]
          },
          "metadata": {
            "tags": []
          },
          "execution_count": 21
        },
        {
          "output_type": "display_data",
          "data": {
            "image/png": "[encoded data removed]",
            "text/plain": [
              "<Figure size 432x288 with 2 Axes>"
            ]
          },
          "metadata": {
            "tags": []
          }
        }
      ]
    },
    {
      "cell_type": "code",
      "metadata": {
        "id": "9wCDJfLazDrn"
      },
      "source": [
        "mort = water.mortality.values\n",
        "hard = water.hardness.values"
      ],
      "execution_count": null,
      "outputs": []
    },
    {
      "cell_type": "code",
      "metadata": {
        "id": "7IuJVjZlzb5M",
        "colab": {
          "base_uri": "https://localhost:8080/",
          "height": 330
        },
        "outputId": "e98df7be-4382-44d8-d12f-65c52094b53b"
      },
      "source": [
        "plt.scatter(mort, hard)\n",
        "plt.xlabel('Mortality')\n",
        "plt.ylabel('Hardness')\n",
        "slope, intercept = np.polyfit(mort, hard, 1)\n",
        "print(slope, intercept)\n",
        "x = mort\n",
        "y = slope * mort + intercept\n",
        "plt.plot(x, y, color='red')\n",
        "slopes, intercepts = draw_bs_pairs_linreg(mort, hard, 50)\n",
        "slope = np.mean(slopes)\n",
        "intercept = np.mean(intercepts)\n",
        "print(slope, intercept)\n",
        "x = mort\n",
        "y = slope * mort + intercept\n",
        "plt.plot(x, y, color='green', alpha=0.5)"
      ],
      "execution_count": null,
      "outputs": [
        {
          "output_type": "stream",
          "text": [
            "-0.13292453273257848 249.77692756960684\n",
            "-0.13031235038781075 245.0522478255251\n"
          ],
          "name": "stdout"
        },
        {
          "output_type": "execute_result",
          "data": {
            "text/plain": [
              "[<matplotlib.lines.Line2D at 0x7ff920bca4a8>]"
            ]
          },
          "metadata": {
            "tags": []
          },
          "execution_count": 23
        },
        {
          "output_type": "display_data",
          "data": {
            "image/png": "[encoded data removed]",
            "text/plain": [
              "<Figure size 432x288 with 1 Axes>"
            ]
          },
          "metadata": {
            "tags": []
          }
        }
      ]
    },
    {
      "cell_type": "code",
      "metadata": {
        "id": "AO0VYMTb9AnF",
        "colab": {
          "base_uri": "https://localhost:8080/",
          "height": 34
        },
        "outputId": "9738e804-6421-48f7-babe-4df3a28d3c7c"
      },
      "source": [
        "slope, intercept = draw_bs_pairs_linreg(mort, hard, 50)\n",
        "len(slope), len(intercept)\n",
        "np.mean(intercept)"
      ],
      "execution_count": null,
      "outputs": [
        {
          "output_type": "execute_result",
          "data": {
            "text/plain": [
              "255.00681105884402"
            ]
          },
          "metadata": {
            "tags": []
          },
          "execution_count": 24
        }
      ]
    },
    {
      "cell_type": "markdown",
      "metadata": {
        "id": "d29ZzYhJ7GkD"
      },
      "source": [
        "4. Зависимость наблюдаем, и она отрицательная: чем выше жёсткость воды, тем не выше (ниже) смертность. Гипотезу отвергаем."
      ]
    },
    {
      "cell_type": "markdown",
      "metadata": {
        "id": "OZ2-95h-Zo4_"
      },
      "source": [
        "## Задача 2\n",
        "\n",
        "Большая часть млекопитающих неспособны во взрослом возрасте переваривать лактозу, содержащуюся в молоке. У людей за расщепление лактозы отвечает фермент лактаза, кодируемый геном LCT. У людей с вариантом 13910T этого гена лактаза продолжает функционировать на протяжении всей жизни. Распределение этого варианта гена сильно варьируется в различных генетических популяциях.\n",
        "\n",
        "Из 50 исследованных представителей народа майя вариант 13910T был обнаружен у одного. Постройте нормальный 95% доверительный интервал для доли носителей варианта 13910T в популяции майя. Чему равна его нижняя граница? \n",
        "\n",
        "Допустим, на уровне 95% вы хотите, чтобы доверительный интервал для доли был в пределах $\\pm 0.01$ Постройте график зависимости объёма выборки, необходимого для оценки для доли носителей гена 13910T с этой точностью от неизвестного параметра доли $p$. Посмотрите, при каком значении $p$ нужно больше всего испытуемых. Как вы думаете, насколько вероятно, что выборка, которую мы анализируем, взята из случайной величины с этим значением параметра?\n",
        "\n"
      ]
    },
    {
      "cell_type": "markdown",
      "metadata": {
        "id": "e9Fg9fzqM5CL"
      },
      "source": [
        "для начала просимулируем нашу выборку, 50 испытуемых и 1 – счастливый обладатель гена"
      ]
    },
    {
      "cell_type": "code",
      "metadata": {
        "id": "aX9sOQow78Hk",
        "colab": {
          "base_uri": "https://localhost:8080/",
          "height": 315
        },
        "outputId": "095470ea-13aa-4aa2-e3de-f14cb431c43d"
      },
      "source": [
        "lact = np.zeros(50)\n",
        "lact[0] = 1\n",
        "plt.hist(lact)"
      ],
      "execution_count": null,
      "outputs": [
        {
          "output_type": "execute_result",
          "data": {
            "text/plain": [
              "(array([49.,  0.,  0.,  0.,  0.,  0.,  0.,  0.,  0.,  1.]),\n",
              " array([0. , 0.1, 0.2, 0.3, 0.4, 0.5, 0.6, 0.7, 0.8, 0.9, 1. ]),\n",
              " <a list of 10 Patch objects>)"
            ]
          },
          "metadata": {
            "tags": []
          },
          "execution_count": 25
        },
        {
          "output_type": "display_data",
          "data": {
            "image/png": "[encoded data removed]",
            "text/plain": [
              "<Figure size 432x288 with 1 Axes>"
            ]
          },
          "metadata": {
            "tags": []
          }
        }
      ]
    },
    {
      "cell_type": "code",
      "metadata": {
        "id": "7l5jP_zN72ch",
        "colab": {
          "base_uri": "https://localhost:8080/",
          "height": 34
        },
        "outputId": "b701e181-471b-4472-a51e-5083c8f27a66"
      },
      "source": [
        "np.percentile(lact, [2.5, 97.5])"
      ],
      "execution_count": null,
      "outputs": [
        {
          "output_type": "execute_result",
          "data": {
            "text/plain": [
              "array([0., 0.])"
            ]
          },
          "metadata": {
            "tags": []
          },
          "execution_count": 26
        }
      ]
    },
    {
      "cell_type": "code",
      "metadata": {
        "id": "asyQklJBo_RU",
        "colab": {
          "base_uri": "https://localhost:8080/",
          "height": 34
        },
        "outputId": "a778af61-8456-4ca8-d510-43660be2350b"
      },
      "source": [
        "share=np.empty(1000)\n",
        "\n",
        "for i in range(1000):\n",
        "  bs_sample = np.random.choice(lact, len(lact))\n",
        "  s=np.sum(bs_sample)/len(bs_sample)\n",
        "  share[i]=s\n",
        "\n",
        "print(np.percentile(share, [2.5, 97.5]))"
      ],
      "execution_count": null,
      "outputs": [
        {
          "output_type": "stream",
          "text": [
            "[0.   0.06]\n"
          ],
          "name": "stdout"
        }
      ]
    },
    {
      "cell_type": "markdown",
      "metadata": {
        "id": "UjhsqQyqq8R5"
      },
      "source": [
        "Построили нормальный 95% доверительный интервал для доли носителей варианта 13910T в популяции майя. Нижняя граница равна 0 (значит есть такие выборки при бутстрапе, когда ни у одного не было гена.)."
      ]
    },
    {
      "cell_type": "code",
      "metadata": {
        "id": "dbaaJaYkqPwJ",
        "colab": {
          "base_uri": "https://localhost:8080/",
          "height": 315
        },
        "outputId": "2c0a456d-4f09-4fae-e674-d4e88e3e5606"
      },
      "source": [
        "plt.hist(share, density=True)"
      ],
      "execution_count": null,
      "outputs": [
        {
          "output_type": "execute_result",
          "data": {
            "text/plain": [
              "(array([35.8,  0. , 37.5,  0. , 19.4,  0. ,  5.7,  0. ,  1.5,  0.1]),\n",
              " array([0.  , 0.01, 0.02, 0.03, 0.04, 0.05, 0.06, 0.07, 0.08, 0.09, 0.1 ]),\n",
              " <a list of 10 Patch objects>)"
            ]
          },
          "metadata": {
            "tags": []
          },
          "execution_count": 27
        },
        {
          "output_type": "display_data",
          "data": {
            "image/png": "[encoded data removed]",
            "text/plain": [
              "<Figure size 432x288 with 1 Axes>"
            ]
          },
          "metadata": {
            "tags": []
          }
        }
      ]
    },
    {
      "cell_type": "code",
      "metadata": {
        "id": "Hv1wa2hgSut6"
      },
      "source": [
        "size = 1000\n",
        "def draw_lact(size):\n",
        "  bs_lact = np.empty(size)\n",
        "  for i in range(size):\n",
        "    bs_lact[i] = bootstrap_replicate_1d(lact, lambda x:x) #change\n",
        "    #np.random.choice(lact, size=len(lact))\n",
        "  print(np.percentile(bs_lact, 2.5))\n",
        "  plt.hist(bs_lact, density=True);"
      ],
      "execution_count": null,
      "outputs": []
    },
    {
      "cell_type": "code",
      "metadata": {
        "id": "lGYqNIZhnsuN",
        "colab": {
          "base_uri": "https://localhost:8080/",
          "height": 282
        },
        "outputId": "f4d199e2-c4a1-48cb-ab0c-4faf9d65e171"
      },
      "source": [
        "draw_lact(10000)"
      ],
      "execution_count": null,
      "outputs": [
        {
          "output_type": "stream",
          "text": [
            "[0.   0.06]\n"
          ],
          "name": "stdout"
        },
        {
          "output_type": "display_data",
          "data": {
            "image/png": "[encoded data removed]",
            "text/plain": [
              "<Figure size 432x288 with 1 Axes>"
            ]
          },
          "metadata": {
            "tags": []
          }
        }
      ]
    },
    {
      "cell_type": "code",
      "metadata": {
        "id": "mAXr-E9RU5oU",
        "colab": {
          "base_uri": "https://localhost:8080/",
          "height": 353
        },
        "outputId": "dae23172-8f5b-40de-9bf3-ebc6281a2c83"
      },
      "source": [
        "for p in range(2, 300, 10):\n",
        "  size = 1000\n",
        "  bs_lact = list()\n",
        "  our_p = np.empty(size)\n",
        "  bs_has = np.empty(size)\n",
        "  lact = np.zeros(p)\n",
        "  lact[0] = 1\n",
        "  for i in range(size):\n",
        "    bs_lact.append(np.random.choice(lact, size=len(lact)))\n",
        "    bs_has[i] = np.sum(bs_lact[i]) / len(bs_lact[i])\n",
        "    #bs_25[i] = np.percentile(bs_has[i], 2.5)\n",
        "    #bs_975[i] = np.percentile(bs_has[i], 97.5)\n",
        "  lower, upper = np.percentile(bs_has, [2.5, 97.5])\n",
        "  if round(upper - lower, 2) <= 0.01:\n",
        "    our_p[i] = 1/p\n",
        "    print(p)\n",
        "    print(round(upper - lower, 2))"
      ],
      "execution_count": null,
      "outputs": [
        {
          "output_type": "stream",
          "text": [
            "202\n",
            "0.01\n",
            "212\n",
            "0.01\n",
            "222\n",
            "0.01\n",
            "232\n",
            "0.01\n",
            "242\n",
            "0.01\n",
            "252\n",
            "0.01\n",
            "262\n",
            "0.01\n",
            "272\n",
            "0.01\n",
            "282\n",
            "0.01\n",
            "292\n",
            "0.01\n"
          ],
          "name": "stdout"
        }
      ]
    },
    {
      "cell_type": "markdown",
      "metadata": {
        "id": "rOcvS13axiMX"
      },
      "source": [
        "Если \"особенных\" меньше 5 на тысячу человек, то это нам подходит."
      ]
    },
    {
      "cell_type": "markdown",
      "metadata": {
        "id": "xpj1fCE6rYoq"
      },
      "source": [
        " Посмотрите, при каком значении $p$ нужно больше всего испытуемых. Как вы думаете, насколько вероятно, что выборка, которую мы анализируем, взята из случайной величины с этим значением параметра?"
      ]
    },
    {
      "cell_type": "markdown",
      "metadata": {
        "id": "1fQOi1Kiwhvk"
      },
      "source": [
        "Посмотрите, при каком значении  p  нужно больше всего испытуемых - если пэ маленький, то и кол-во испытуемых нужно много!"
      ]
    },
    {
      "cell_type": "markdown",
      "metadata": {
        "id": "KmPqqukEbcVi"
      },
      "source": [
        "## Задача 3\n",
        "\n",
        "В пятилетнем рандомизированном исследовании Гарвардской медицинской школы 11037 испытуемых через день принимали аспирин, а ещё 11034 — плацебо. Исследование было слепым, то есть, испытуемые не знали, что именно они принимают.\n",
        "\n",
        "За 5 лет инфаркт случился у 104 испытуемых, принимавших аспирин, и у 189 принимавших плацебо.\n",
        "\n",
        "Постройте доверительный интервал для разницы в доле умерших от инфаркта между принимавшими и не принимавшими аспирин пациентами"
      ]
    },
    {
      "cell_type": "code",
      "metadata": {
        "id": "SteTIgQcLoaZ",
        "colab": {
          "base_uri": "https://localhost:8080/",
          "height": 34
        },
        "outputId": "d96acbc6-ab35-427e-b6f0-059fdb5c509f"
      },
      "source": [
        "died_asp_num = 104 / 11037\n",
        "died_no_num = 189 / 11034\n",
        "died_asp = np.zeros(11037)\n",
        "died_asp[:104] = 1\n",
        "died_no = np.zeros(11034)\n",
        "died_no[:189] = 1\n",
        "np.abs(died_asp_num - died_no_num)"
      ],
      "execution_count": null,
      "outputs": [
        {
          "output_type": "execute_result",
          "data": {
            "text/plain": [
              "0.0077060239760047815"
            ]
          },
          "metadata": {
            "tags": []
          },
          "execution_count": 30
        }
      ]
    },
    {
      "cell_type": "markdown",
      "metadata": {
        "id": "PJL14YD4N6cn"
      },
      "source": [
        "Доверительный интервал"
      ]
    },
    {
      "cell_type": "code",
      "metadata": {
        "id": "3R7zKatAbTDo",
        "colab": {
          "base_uri": "https://localhost:8080/",
          "height": 34
        },
        "outputId": "dc7b58b6-b881-4a28-ab66-b99a904f6c35"
      },
      "source": [
        "size = 1000\n",
        "bs_asp_dif = np.empty(size)\n",
        "for i in range(size):\n",
        "  bs_died_asp = np.random.choice(died_asp, size=len(died_asp))\n",
        "  bs_died_no = np.random.choice(died_no, size=len(died_no))\n",
        "  bs_asp_dif[i] = np.abs(np.sum(bs_died_asp) / len(bs_died_asp) - np.sum(bs_died_no) / len(bs_died_no))\n",
        "np.percentile(bs_asp_dif, [2.5, 97.5])"
      ],
      "execution_count": null,
      "outputs": [
        {
          "output_type": "execute_result",
          "data": {
            "text/plain": [
              "array([0.00462253, 0.01069653])"
            ]
          },
          "metadata": {
            "tags": []
          },
          "execution_count": 31
        }
      ]
    },
    {
      "cell_type": "markdown",
      "metadata": {
        "id": "VJOXXHAbdYKE"
      },
      "source": [
        "Для бернуллиевских случайных величин $X\\sim Ber(p)$ часто вычисляют величину $\\frac{p}{1-p}$ \n",
        "​\t , которая называется шансами (odds). Чтобы оценить шансы по выборке, вместо $p$ нужно подставить $\\hat{p} $\n",
        "\n",
        "​\t . Например, шансы инфаркта в контрольной группе, принимавшей плацебо, можно оценить как\n",
        "\n",
        "$\\frac{\\frac{189}{11034}}{1-\\frac{189}{11034}} = \\frac{189}{11034-189}\\approx 0.0174 $\n",
        "\n",
        "Оцените, в этом эксперименте во сколько раз понижаются шансы инфаркта при регулярном приёме аспирина. Постройте 95% доверительный интервал для отношения шансов."
      ]
    },
    {
      "cell_type": "markdown",
      "metadata": {
        "id": "k6kiAnIid1OI"
      },
      "source": [
        "Можно ли сказать что-то об эффективности приема аспирина? Протестируйте  подходящую гипотезу всеми известными вам способами. "
      ]
    },
    {
      "cell_type": "code",
      "metadata": {
        "id": "ErX3tlJUdZC3",
        "colab": {
          "base_uri": "https://localhost:8080/",
          "height": 34
        },
        "outputId": "1864f668-4635-4381-eb41-dbe9eceb4106"
      },
      "source": [
        "bs_odd_times = np.empty(size)\n",
        "for i in range(size):\n",
        "  bs_died_asp = np.random.choice(died_asp, size=len(died_asp))\n",
        "  bs_died_no = np.random.choice(died_no, size=len(died_no))\n",
        "  bs_odd_times[i] = ((np.sum(bs_died_no) / len(bs_died_no)) / (1 - np.sum(bs_died_no) / len(bs_died_no))) \\\n",
        "                           / ((np.sum(bs_died_asp) / len(bs_died_asp)) / (1 - np.sum(bs_died_asp) / len(bs_died_asp)))\n",
        "  #bs_odd_times[i] = ((np.sum(bs_died_asp) / len(bs_died_asp)) / (1 - np.sum(bs_died_asp) / len(bs_died_asp))) \\\n",
        "  #                         / ((np.sum(bs_died_no) / len(bs_died_no)) / (1 - np.sum(bs_died_no) / len(bs_died_no)))\n",
        "np.percentile(bs_odd_times, [2.5, 97.5])"
      ],
      "execution_count": null,
      "outputs": [
        {
          "output_type": "execute_result",
          "data": {
            "text/plain": [
              "array([1.47355563, 2.30008637])"
            ]
          },
          "metadata": {
            "tags": []
          },
          "execution_count": 32
        }
      ]
    },
    {
      "cell_type": "markdown",
      "metadata": {
        "id": "-li2RE6xEfu1"
      },
      "source": [
        "Получается, что эффект от приема аспирина вырастает фактически в 2 раза"
      ]
    },
    {
      "cell_type": "markdown",
      "metadata": {
        "id": "QHmupgvPehGx"
      },
      "source": [
        "## Задача 4\n",
        "По данным опроса, 75% работников ресторанов утверждают, что испытывают на работе существенный стресс, оказывающий негативное влияние на их личную жизнь. Крупная ресторанная сеть опрашивает 100 своих работников, чтобы выяснить, отличается ли уровень стресса работников в их ресторанах от среднего. 67 из 100 работников отметили высокий уровень стресса. \n",
        "Какие выводы из этого может сделать для себя руководство? \n",
        "\n",
        "А другая сеть получила, что только 22 из 50 работников испытывают существенный стресс. А руководство этой компании какие выводы может сделать?\n",
        "\n",
        "А можно ли утведрждать что в обеих этих сетях уровень стресса одинаковый?"
      ]
    },
    {
      "cell_type": "code",
      "metadata": {
        "id": "EWljW6JfeovC"
      },
      "source": [
        "rest1 = np.zeros(100)\n",
        "rest1[:67] = 1\n",
        "rest2 = np.zeros(50)\n",
        "rest2[:22] = 1"
      ],
      "execution_count": null,
      "outputs": []
    },
    {
      "cell_type": "code",
      "metadata": {
        "id": "aK1YnALzelTG",
        "colab": {
          "base_uri": "https://localhost:8080/",
          "height": 34
        },
        "outputId": "b81fccb2-af6f-473e-e227-9217c6422381"
      },
      "source": [
        "np.percentile(rest1, [2.5, 97.5]), np.percentile(rest2, [2.5, 97.5])"
      ],
      "execution_count": null,
      "outputs": [
        {
          "output_type": "execute_result",
          "data": {
            "text/plain": [
              "(array([0., 1.]), array([0., 1.]))"
            ]
          },
          "metadata": {
            "tags": []
          },
          "execution_count": 14
        }
      ]
    },
    {
      "cell_type": "markdown",
      "metadata": {
        "id": "zCWsTPQyeujq"
      },
      "source": [
        "Слишком мало опрошенных работников. Из 100 получить 67 - хороший результат, что может говорить о несколько лучшей ситуации, чем по данным о 75%. Однако в случае 22 из 50 работников можно предположить, что были взяты только \"нестрессующие\", потому что выборка недостаточная для каких-либо выводов. 22 из 50 может не означать, что ситуация во второй сети лучше, чем в первой.\n",
        "Доверительный интервал тоже различается, надо построить!"
      ]
    },
    {
      "cell_type": "markdown",
      "metadata": {
        "id": "bkhYTFr0ihuI"
      },
      "source": [
        "думаю, чтобы вычислить уровень значимости для каждой из двух выборок, нужно их пробутстрапить по средним, а затем посчитать для них p-value. Это сгладит возможный шанс случайности нашей выборки "
      ]
    },
    {
      "cell_type": "code",
      "metadata": {
        "id": "465AiCHLS7c1",
        "colab": {
          "base_uri": "https://localhost:8080/",
          "height": 328
        },
        "outputId": "aeda642e-44b1-4f09-b063-8a5416ba9e1d"
      },
      "source": [
        "#возьмем функцию для бутстрапа\n",
        "def bs_rep(func, data=rest1):\n",
        "  return func(np.random.choice(data, size=(len(data))))\n",
        "#функция для симуляции большой выборки\n",
        "def make_bs(func, data=rest1, size=1000): \n",
        "  bs_replicates = np.empty(size)\n",
        "  for i in range(size):\n",
        "    bs_replicates[i] = bs_rep(func, data)\n",
        "  return bs_replicates\n",
        "\n",
        "fig, axs = plt.subplots(2)\n",
        "fig.suptitle('Средние после бутстрапа (первая гистограмма=67 из 100 в стрессе)')\n",
        "stress1=make_bs(func=np.mean)#возможные для первого случая\n",
        "stress2=make_bs(func=np.mean, data=rest2)#для второго\n",
        "quant = np.percentile(stress1, [2.5, 97.5])#вычисляем квантили\n",
        "#гистограма с доверительными интервалами\n",
        "axs[0].hist(quant, bins=1, height=150)\n",
        "quant_small = np.percentile(stress2, [2.5, 97.5])\n",
        "axs[0].hist(stress1, bins=50)\n",
        "axs[1].hist(quant_small, bins=1, height=150)\n",
        "axs[1].hist(stress2, bins=50);\n",
        "print('доверительный интервал в случае бутстрапа 67 из 100:', quant)\n",
        "print('доверительный интервал в случае бутстрапа 22 из 50:', quant_small)"
      ],
      "execution_count": null,
      "outputs": [
        {
          "output_type": "stream",
          "text": [
            "доверительный интервал в случае бутстрапа 67 из 100: [0.57 0.76]\n",
            "доверительный интервал в случае бутстрапа 22 из 50: [0.3  0.58]\n"
          ],
          "name": "stdout"
        },
        {
          "output_type": "display_data",
          "data": {
            "image/png": "[encoded data removed]",
            "text/plain": [
              "<Figure size 432x288 with 2 Axes>"
            ]
          },
          "metadata": {
            "tags": []
          }
        }
      ]
    },
    {
      "cell_type": "markdown",
      "metadata": {
        "id": "M5QCem_mpy-d"
      },
      "source": [
        "! Получить p-value! Какой шанс, что мы получили данные случайно.\n",
        "Забутстрапить."
      ]
    },
    {
      "cell_type": "code",
      "metadata": {
        "id": "qV-mv3r1fpgo",
        "colab": {
          "base_uri": "https://localhost:8080/",
          "height": 34
        },
        "outputId": "ce05b0a9-d126-42fc-d44b-6eb32382f4ba"
      },
      "source": [
        "rest1_bs = draw_bs_reps(rest1, np.mean, 10000)\n",
        "np.percentile(rest1_bs, [2.5, 97.5])"
      ],
      "execution_count": null,
      "outputs": [
        {
          "output_type": "execute_result",
          "data": {
            "text/plain": [
              "array([0.58, 0.76])"
            ]
          },
          "metadata": {
            "tags": []
          },
          "execution_count": 15
        }
      ]
    },
    {
      "cell_type": "code",
      "metadata": {
        "id": "yfUd1CmGJ6X7",
        "colab": {
          "base_uri": "https://localhost:8080/",
          "height": 34
        },
        "outputId": "e3d86aad-f844-4b04-86ce-aaf2ad4a1363"
      },
      "source": [
        "p0 = np.sum(rest1_bs >= 0.75) / len(rest1_bs)\n",
        "p0"
      ],
      "execution_count": null,
      "outputs": [
        {
          "output_type": "execute_result",
          "data": {
            "text/plain": [
              "0.055"
            ]
          },
          "metadata": {
            "tags": []
          },
          "execution_count": 16
        }
      ]
    },
    {
      "cell_type": "code",
      "metadata": {
        "id": "j2ABYNIq6E0V",
        "colab": {
          "base_uri": "https://localhost:8080/",
          "height": 34
        },
        "outputId": "a5c49703-cdef-4296-80f2-56edb8703af8"
      },
      "source": [
        "#двусторонний p-value = 2min(P0,P)\n",
        "double_tails = 2* min(p0, 1-p0)\n",
        "double_tails"
      ],
      "execution_count": null,
      "outputs": [
        {
          "output_type": "execute_result",
          "data": {
            "text/plain": [
              "0.11"
            ]
          },
          "metadata": {
            "tags": []
          },
          "execution_count": 17
        }
      ]
    }
  ]
}